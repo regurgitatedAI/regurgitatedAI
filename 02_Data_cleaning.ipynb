{
 "cells": [
  {
   "cell_type": "markdown",
   "id": "41b658e5-4026-46dd-aa02-abcc00797992",
   "metadata": {},
   "source": [
    "MAke sure that all images are inside the same distribution. Check classes or stuff in the data frame, is data present uniformly? Are there reapeting values, like f, Female and fem all pointing to the same thing? Are there NAN values? What about other kinds of data? "
   ]
  }
 ],
 "metadata": {
  "kernelspec": {
   "display_name": "Python [conda env:MLOps]",
   "language": "python",
   "name": "conda-env-MLOps-py"
  },
  "language_info": {
   "codemirror_mode": {
    "name": "ipython",
    "version": 3
   },
   "file_extension": ".py",
   "mimetype": "text/x-python",
   "name": "python",
   "nbconvert_exporter": "python",
   "pygments_lexer": "ipython3",
   "version": "3.7.11"
  }
 },
 "nbformat": 4,
 "nbformat_minor": 5
}
