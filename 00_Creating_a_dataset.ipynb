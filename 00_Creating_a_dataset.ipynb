{
 "cells": [
  {
   "cell_type": "markdown",
   "id": "89794686-7da2-48d3-a3e5-b1400319db7b",
   "metadata": {},
   "source": [
    "Starting a new machine learning project is always exciting, however, most beginners tend to overlook the importance of aquaring a good dataset. Usually, we are too focused on implementing a first prototype, figuring out which algorithm will result in the best accuracy, that we don't appreciate just how vital a good dataset is. \n",
    "\n",
    "Therefore, I would like to remind all data scientist this key piece of advice. \n",
    "\n",
    "**We do not rise to the complexity of our models, instead, we fall to the quality of the dataset** \n",
    "\n",
    "*note: (This is an adaptation of a quote by 650 BC greek soldier Archilochus, who said: We do not rise to the level of our expectations). "
   ]
  },
  {
   "cell_type": "markdown",
   "id": "61047432-7454-4402-9fe8-f8ecd30429dc",
   "metadata": {},
   "source": [
    "So, data. For the most part, you will be confronted with one of the two situations: \n",
    "1. Use an existing dataset. \n",
    "2. Create your own dataset. \n",
    "\n",
    "\n",
    "Where to find datsets? Kaggle, tensorflow/keras, gobernment/ university sites, through papers, through competetions: imagenet, MOT challenge, etc. \n",
    "That's great if you are studying or doing reserach. However, more often than not, if you are working in the private sector, you will have to create you own datasets. That means either finding multiple datasets and combining them in an efficient way, setting up a pipeline to gather data, annotate data, clean data, preprocess data. "
   ]
  },
  {
   "cell_type": "markdown",
   "id": "b49552a7-37da-4737-8a41-ec9f47fc45be",
   "metadata": {},
   "source": [
    "How to create your own dataset? \n",
    "Let's learn. There usually are two ways to go around it. \n",
    "1. You know what kind of data you want to work with, and you will figure out what kind of model to fit afterwards. \n",
    "2. You know what kind of problem you want to solve, and you will find data that allows you to do so. \n",
    "\n",
    "Since this is for demonstration purposes, we will create a versatile dataset. That can be used for multiple use cases. We will create a dataset containing many different data types, and it will be the dataset used throught the course to learn machine learning. \n",
    "\n",
    "So what kind of data should we use? There are many different types of data: it can be numerical, text, images, sound, time series... Possibilities are endless. Most tutorials out there focus mosty one either numerical datsets (a dataframe, sometimes with bools for True/False attributes) or pictures (think of MNIST, imagenet, COCO, etc). However, there are so many different types of data! In this tutorial, we will explore a broad variety. \n",
    "\n",
    "We will therefore create The Kaleidoscopic Zoo. Why? Well, besides creating posts about things that I am pasoniote about, during my free time I enjoy running. AT every starting line, coach Bennet is there with me, and throught many runs, I have picked up a habit from him. You see, coach Bennet LOVES himself a good dictionary. And that is a beatiful habit I've started to pick up. So why Kaleidoscopic? Well, if you look up the difinition, the first thing that comes is \"Having complex patterns of colours; multicoloured.\", not really what I'm going for. But if you continue and read the second definition, you will find \"Made up of a complex mix of elements; multifaceted.\" Now, that's the definition I want for our datatset. A dataset  made up of a complex mix of elements. A versatile dataset, containing different types of data, so it can be used for more than one use case. And Zoo, well, because its gonna be made up of animals. "
   ]
  },
  {
   "cell_type": "markdown",
   "id": "8a05d159-3724-42da-a7cf-2ee25b2399ca",
   "metadata": {},
   "source": [
    "## Images"
   ]
  },
  {
   "cell_type": "markdown",
   "id": "e7f946b8-87e3-4e69-921d-d946fb3b6def",
   "metadata": {},
   "source": [
    "Inspo from https://towardsdatascience.com/how-to-create-and-tune-your-own-data-set-for-facial-recognition-using-neural-networks-8a68be38652\n"
   ]
  },
  {
   "cell_type": "markdown",
   "id": "8140c888-81cf-4a61-8fc7-d030b5401f85",
   "metadata": {},
   "source": [
    "## Text"
   ]
  },
  {
   "cell_type": "code",
   "execution_count": null,
   "id": "129882a7-fcf8-4a4f-b8f1-af0de96207f0",
   "metadata": {},
   "outputs": [],
   "source": []
  },
  {
   "cell_type": "markdown",
   "id": "a6b3cf63-42c1-41fc-b564-f1aa7985ae18",
   "metadata": {},
   "source": [
    "## Numerical"
   ]
  },
  {
   "cell_type": "code",
   "execution_count": null,
   "id": "beffd06a-998e-4d35-ae6d-2ce4110feef0",
   "metadata": {},
   "outputs": [],
   "source": []
  },
  {
   "cell_type": "markdown",
   "id": "30c78a05-1259-4577-8c8a-b30f49bbe8bd",
   "metadata": {},
   "source": [
    "## Video"
   ]
  },
  {
   "cell_type": "code",
   "execution_count": null,
   "id": "c61095b4-9cd0-4621-9a26-aafc4240a860",
   "metadata": {},
   "outputs": [],
   "source": []
  },
  {
   "cell_type": "markdown",
   "id": "323b609e-2eab-4e35-baa7-ee48244144f5",
   "metadata": {},
   "source": [
    "## Audio"
   ]
  },
  {
   "cell_type": "markdown",
   "id": "1fe0b42e-a132-4c6d-985b-f8a89ac22068",
   "metadata": {},
   "source": [
    "## Time series"
   ]
  },
  {
   "cell_type": "code",
   "execution_count": null,
   "id": "264d59e9-0155-419d-ac5b-ed3c82ef7bf8",
   "metadata": {},
   "outputs": [],
   "source": []
  },
  {
   "cell_type": "code",
   "execution_count": null,
   "id": "b20863d8-7610-4a9c-a1ff-89f7c5b5c992",
   "metadata": {},
   "outputs": [],
   "source": []
  }
 ],
 "metadata": {
  "kernelspec": {
   "display_name": "Python [conda env:MLOps]",
   "language": "python",
   "name": "conda-env-MLOps-py"
  },
  "language_info": {
   "codemirror_mode": {
    "name": "ipython",
    "version": 3
   },
   "file_extension": ".py",
   "mimetype": "text/x-python",
   "name": "python",
   "nbconvert_exporter": "python",
   "pygments_lexer": "ipython3",
   "version": "3.7.11"
  }
 },
 "nbformat": 4,
 "nbformat_minor": 5
}
