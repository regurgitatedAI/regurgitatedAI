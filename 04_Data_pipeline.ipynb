{
 "cells": [
  {
   "cell_type": "markdown",
   "id": "4fc701fb-95ba-40b5-895c-e34a1f05e318",
   "metadata": {},
   "source": [
    "Put everything together, so the data is processed automatically for nice, efficient and repeatable data \n",
    "Maybe include zenml and datahub stuff, for version control and saving experiments. "
   ]
  }
 ],
 "metadata": {
  "kernelspec": {
   "display_name": "Python [conda env:MLOps]",
   "language": "python",
   "name": "conda-env-MLOps-py"
  },
  "language_info": {
   "codemirror_mode": {
    "name": "ipython",
    "version": 3
   },
   "file_extension": ".py",
   "mimetype": "text/x-python",
   "name": "python",
   "nbconvert_exporter": "python",
   "pygments_lexer": "ipython3",
   "version": "3.7.11"
  }
 },
 "nbformat": 4,
 "nbformat_minor": 5
}
