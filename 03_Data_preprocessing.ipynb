{
 "cells": [
  {
   "cell_type": "markdown",
   "id": "cefbed6f-b7c4-40d4-899f-76990c570e9b",
   "metadata": {},
   "source": [
    "Convert data to desired formats, talk about tensor formats, normalize data, do tokenization for text, maybe other stuff"
   ]
  }
 ],
 "metadata": {
  "kernelspec": {
   "display_name": "Python [conda env:MLOps]",
   "language": "python",
   "name": "conda-env-MLOps-py"
  },
  "language_info": {
   "codemirror_mode": {
    "name": "ipython",
    "version": 3
   },
   "file_extension": ".py",
   "mimetype": "text/x-python",
   "name": "python",
   "nbconvert_exporter": "python",
   "pygments_lexer": "ipython3",
   "version": "3.7.11"
  }
 },
 "nbformat": 4,
 "nbformat_minor": 5
}
