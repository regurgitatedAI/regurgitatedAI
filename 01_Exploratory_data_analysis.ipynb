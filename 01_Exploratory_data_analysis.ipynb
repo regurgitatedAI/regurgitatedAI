{
 "cells": [
  {
   "cell_type": "code",
   "execution_count": null,
   "id": "ea28d977-6853-41ab-8054-44f8ac9da7a3",
   "metadata": {},
   "outputs": [],
   "source": [
    "Alright, always, the first thing you must do, is get to know your data. Hav eownership of the data. How does it look like, what can we learn from it?\n",
    "Max and min values? How is it distributed? What does that data look like? What hypothesis can we gather? \n",
    "Are there correlations? Causality? How many dimension? Etc\n"
   ]
  }
 ],
 "metadata": {
  "kernelspec": {
   "display_name": "Python [conda env:MLOps]",
   "language": "python",
   "name": "conda-env-MLOps-py"
  },
  "language_info": {
   "codemirror_mode": {
    "name": "ipython",
    "version": 3
   },
   "file_extension": ".py",
   "mimetype": "text/x-python",
   "name": "python",
   "nbconvert_exporter": "python",
   "pygments_lexer": "ipython3",
   "version": "3.7.11"
  }
 },
 "nbformat": 4,
 "nbformat_minor": 5
}
